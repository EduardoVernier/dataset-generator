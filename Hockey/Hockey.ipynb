{
 "cells": [
  {
   "cell_type": "code",
   "execution_count": 1,
   "metadata": {},
   "outputs": [],
   "source": [
    "# https://www.kaggle.com/open-source-sports/professional-hockey-database\n",
    "import pandas as pd\n",
    "import numpy as np\n",
    "import os"
   ]
  },
  {
   "cell_type": "code",
   "execution_count": 2,
   "metadata": {},
   "outputs": [
    {
     "data": {
      "text/plain": [
       "Index(['playerID', 'year', 'tmID', 'lgID', 'pos', 'GP', 'G', 'A', 'Pts',\n",
       "       'PIM'],\n",
       "      dtype='object')"
      ]
     },
     "execution_count": 2,
     "metadata": {},
     "output_type": "execute_result"
    }
   ],
   "source": [
    "h_df = pd.read_csv('ScoringSC.csv')\n",
    "h_df.columns"
   ]
  },
  {
   "cell_type": "code",
   "execution_count": 3,
   "metadata": {},
   "outputs": [],
   "source": [
    "weight_cols = ['GP', 'G', 'A', 'Pts', 'PIM']"
   ]
  },
  {
   "cell_type": "code",
   "execution_count": 4,
   "metadata": {},
   "outputs": [
    {
     "name": "stdout",
     "output_type": "stream",
     "text": [
      "1912\n",
      "1913\n",
      "1914\n",
      "1915"
     ]
    },
    {
     "name": "stderr",
     "output_type": "stream",
     "text": [
      "/usr/local/lib/python3.5/dist-packages/ipykernel_launcher.py:3: SettingWithCopyWarning: \n",
      "A value is trying to be set on a copy of a slice from a DataFrame.\n",
      "Try using .loc[row_indexer,col_indexer] = value instead\n",
      "\n",
      "See the caveats in the documentation: http://pandas.pydata.org/pandas-docs/stable/indexing.html#indexing-view-versus-copy\n",
      "  This is separate from the ipykernel package so we can avoid doing imports until\n"
     ]
    },
    {
     "name": "stdout",
     "output_type": "stream",
     "text": [
      "\n",
      "1916\n",
      "1917\n",
      "1918\n",
      "1919\n",
      "1920\n",
      "1921\n",
      "1922\n",
      "1923\n",
      "1924\n",
      "1925\n"
     ]
    }
   ],
   "source": [
    "for year, df in h_df.groupby('year'):\n",
    "    print(year)\n",
    "    df['id'] = df['lgID'] + '/' + df['tmID'] + '/' + df['pos'] + '/' + df['playerID']\n",
    "    for col in weight_cols:\n",
    "        copy = df.loc[:, ['id', col]].dropna(axis=0).copy()\n",
    "        copy.columns = ['id', 'weight']\n",
    "        copy['weight'] = copy['weight'].abs()  # We can't have negative weights\n",
    "        copy['weight'] = copy['weight'].replace({0:np.nan})\n",
    "        copy.dropna(axis=0, how='any', inplace=True)\n",
    "\n",
    "        dir_name = 'hockey/' + col + '/'\n",
    "        os.makedirs(dir_name, exist_ok=True)\n",
    "        if copy.shape[0] > 0:  # Check if not empty\n",
    "            copy.to_csv(dir_name + str(year) + '-'  + str(copy.shape[0]) + '.csv', index=False)\n"
   ]
  }
 ],
 "metadata": {
  "kernelspec": {
   "display_name": "Python 3",
   "language": "python",
   "name": "python3"
  },
  "language_info": {
   "codemirror_mode": {
    "name": "ipython",
    "version": 3
   },
   "file_extension": ".py",
   "mimetype": "text/x-python",
   "name": "python",
   "nbconvert_exporter": "python",
   "pygments_lexer": "ipython3",
   "version": "3.5.2"
  }
 },
 "nbformat": 4,
 "nbformat_minor": 2
}
