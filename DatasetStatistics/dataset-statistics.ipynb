{
 "cells": [
  {
   "cell_type": "code",
   "execution_count": 1,
   "metadata": {},
   "outputs": [],
   "source": [
    "%matplotlib inline\n",
    "import os\n",
    "import pandas as pd\n",
    "import numpy as np\n",
    "import matplotlib.pyplot as plt\n",
    "from scipy import stats\n",
    "from natsort import natsorted, ns\n",
    "from functools import reduce"
   ]
  },
  {
   "cell_type": "code",
   "execution_count": 2,
   "metadata": {},
   "outputs": [],
   "source": [
    "n_revision_list = []\n",
    "max_nodes_list = []\n",
    "coeff_var_list = []\n",
    "rev_weight_diff_list = []\n",
    "addition_deletion_list = []"
   ]
  },
  {
   "cell_type": "code",
   "execution_count": 3,
   "metadata": {},
   "outputs": [
    {
     "name": "stdout",
     "output_type": "stream",
     "text": [
      "1506\n"
     ]
    }
   ],
   "source": [
    "root_paths = ['/home/eduardo/Desktop/new_datasets/converted/converted_1',\n",
    "              '/home/eduardo/Desktop/new_datasets/converted/converted_5',\n",
    "              '/home/eduardo/Desktop/new_datasets/converted/converted_3',\n",
    "              '/home/eduardo/Desktop/new_datasets/converted/converted_2',\n",
    "              '/home/eduardo/Desktop/new_datasets/converted/converted_4',\n",
    "              '/home/eduardo/Desktop/new_datasets/OLD']\n",
    "\n",
    "dataset_paths = []\n",
    "for rp in root_paths:\n",
    "    only_files = [os.path.join(rp,f) for f in os.listdir(rp) if os.path.isfile(os.path.join(rp, f))]\n",
    "    dataset_paths.extend(only_files)\n",
    "\n",
    "print(len(dataset_paths))    \n",
    "\n",
    "# Remove this line later after testing results\n",
    "# dataset_paths = dataset_paths[:100]"
   ]
  },
  {
   "cell_type": "code",
   "execution_count": 9,
   "metadata": {
    "scrolled": true
   },
   "outputs": [
    {
     "name": "stdout",
     "output_type": "stream",
     "text": [
      "/home/eduardo/Desktop/new_datasets/converted/converted_3/wb-DT.NFL.NEBR.CD.data\n",
      "0      \r"
     ]
    }
   ],
   "source": [
    "n_datasets = len(dataset_paths) - 1\n",
    "for csv_path in dataset_paths:\n",
    "    print(str(n_datasets) + '    ', end='\\r', flush=True)\n",
    "    n_datasets -= 1\n",
    "    # Read csv\n",
    "    try:\n",
    "        df = pd.read_csv(csv_path, header=None)\n",
    "    except:\n",
    "        print(csv_path)\n",
    "        \n",
    "    # Remove non-leaf rows\n",
    "    df = df[~df[0].isin(df[1])]\n",
    "    # Remove implicit parent info\n",
    "    df.drop(1, axis=1, inplace=True)\n",
    "    # Set first col as index\n",
    "    df.set_index(df.columns[0], inplace=True)\n",
    "    # Rename columns\n",
    "    df.columns = range(df.shape[1])\n",
    "    # Replace 0s with NaN\n",
    "    df.replace({0:np.nan}, inplace=True)\n",
    "    # Normalize each column of table\n",
    "    for column in df.columns:\n",
    "        df[column] = df[column] / df[column].sum()\n",
    "\n",
    "    # Count revisions\n",
    "    n_revisions = len(df.columns)\n",
    "    n_revision_list.append(n_revisions)\n",
    "\n",
    "    # Max number of leafs in a revision\n",
    "    max_nodes = df.notnull().sum(axis=0).max()\n",
    "    max_nodes_list.append(max_nodes)\n",
    "\n",
    "    # Compute coefficient of variance\n",
    "    var_coeff = df.unstack().std() / df.unstack().mean()\n",
    "    coeff_var_list.append(var_coeff)\n",
    "\n",
    "    # Count additions and deletions proportion (no distinction between the two)\n",
    "    for i in range(n_revisions - 1):\n",
    "        addition_deletion_ratio = np.logical_xor(df.iloc[:, i].notnull(), df.iloc[:, i + 1].notnull()).sum() / (df.iloc[:, i].notnull().sum() + 1)\n",
    "        addition_deletion_list.append(addition_deletion_ratio)\n",
    "\n",
    "    # Compute cell diff between consecutive revisions\n",
    "    df = df.fillna(0)\n",
    "    diffs_df = np.absolute(np.diff(df.values, axis=1))\n",
    "    diffs_per_rev = pd.DataFrame(diffs_df).sum(axis=0).tolist()\n",
    "    rev_weight_diff_list.extend(diffs_per_rev)"
   ]
  },
  {
   "cell_type": "code",
   "execution_count": null,
   "metadata": {},
   "outputs": [],
   "source": [
    "# print(n_revision_list)\n",
    "# print(max_nodes_list)\n",
    "# print(coeff_var_list)\n",
    "# print(rev_weight_diff_list)\n",
    "# print(addition_deletion_list)"
   ]
  },
  {
   "cell_type": "code",
   "execution_count": 10,
   "metadata": {},
   "outputs": [],
   "source": [
    "def array_statistics(ar):\n",
    "    ds = stats.describe(ar)\n",
    "    print('Mean: %.4f' % ds.mean, end='   ')\n",
    "    print('Min/Max: %.4f/%.4f' % ds.minmax, end='   ')\n",
    "    print('Variance: %.4f' % ds.variance)\n",
    "    qt = np.percentile(ar, [25, 50, 75])\n",
    "    print('1st Quartile: %.4f' % qt[0], end='     ')\n",
    "    print('Median: %.4f' % qt[1], end='     ')\n",
    "    print('3rd Quartile %.4f' % qt[2])"
   ]
  },
  {
   "cell_type": "code",
   "execution_count": 11,
   "metadata": {},
   "outputs": [
    {
     "name": "stdout",
     "output_type": "stream",
     "text": [
      "Mean: 47.4284   Min/Max: 5.0000/468.0000   Variance: 1168.7845\n",
      "1st Quartile: 28.0000     Median: 47.0000     3rd Quartile 57.0000\n"
     ]
    },
    {
     "data": {
      "image/png": "[encoded data removed]",
      "text/plain": [
       "<matplotlib.figure.Figure at 0x7f513aa38e10>"
      ]
     },
     "metadata": {},
     "output_type": "display_data"
    }
   ],
   "source": [
    "plt.hist(n_revision_list, bins=30);\n",
    "plt.title('# of revisions in dataset')\n",
    "array_statistics(n_revision_list)"
   ]
  },
  {
   "cell_type": "code",
   "execution_count": 12,
   "metadata": {},
   "outputs": [
    {
     "name": "stdout",
     "output_type": "stream",
     "text": [
      "Mean: 277.9660   Min/Max: 1.0000/20614.0000   Variance: 632625.5501\n",
      "1st Quartile: 113.0000     Median: 158.0000     3rd Quartile 192.0000\n"
     ]
    },
    {
     "data": {
      "image/png": "[encoded data removed]",
      "text/plain": [
       "<matplotlib.figure.Figure at 0x7f513aa38780>"
      ]
     },
     "metadata": {},
     "output_type": "display_data"
    }
   ],
   "source": [
    "plt.hist(max_nodes_list, bins=30)\n",
    "plt.title('Max # of nodes in dataset revision')\n",
    "array_statistics(max_nodes_list)"
   ]
  },
  {
   "cell_type": "code",
   "execution_count": 13,
   "metadata": {},
   "outputs": [
    {
     "name": "stdout",
     "output_type": "stream",
     "text": [
      "Mean: 0.3064   Min/Max: 0.0000/2.0000   Variance: 0.1354\n",
      "1st Quartile: 0.0477     Median: 0.1829     3rd Quartile 0.4268\n"
     ]
    },
    {
     "data": {
      "image/png": "[encoded data removed]",
      "text/plain": [
       "<matplotlib.figure.Figure at 0x7f513a6b3a20>"
      ]
     },
     "metadata": {},
     "output_type": "display_data"
    }
   ],
   "source": [
    "plt.hist(rev_weight_diff_list, bins=30)\n",
    "plt.title('Sum of relative difference between consecutive cell revisions per revision')\n",
    "array_statistics(rev_weight_diff_list)"
   ]
  },
  {
   "cell_type": "code",
   "execution_count": 14,
   "metadata": {},
   "outputs": [
    {
     "name": "stdout",
     "output_type": "stream",
     "text": [
      "Mean: 0.2685   Min/Max: 0.0000/1023.0000   Variance: 32.4905\n",
      "1st Quartile: 0.0000     Median: 0.0367     3rd Quartile 0.1861\n"
     ]
    },
    {
     "data": {
      "image/png": "[encoded data removed]",
      "text/plain": [
       "<matplotlib.figure.Figure at 0x7f513a52a630>"
      ]
     },
     "metadata": {},
     "output_type": "display_data"
    }
   ],
   "source": [
    "plt.hist(addition_deletion_list, bins=30, range=[0,2])\n",
    "plt.title('Ratio of additions and deletions in dataset per revision')\n",
    "array_statistics(addition_deletion_list)"
   ]
  },
  {
   "cell_type": "code",
   "execution_count": 15,
   "metadata": {},
   "outputs": [
    {
     "name": "stdout",
     "output_type": "stream",
     "text": [
      "Mean: 2.1979   Min/Max: 0.0000/16.7903   Variance: 3.0592\n",
      "1st Quartile: 0.9270     Median: 1.8688     3rd Quartile 2.9391\n"
     ]
    },
    {
     "data": {
      "image/png": "[encoded data removed]",
      "text/plain": [
       "<matplotlib.figure.Figure at 0x7f513a471160>"
      ]
     },
     "metadata": {},
     "output_type": "display_data"
    }
   ],
   "source": [
    "plt.hist(coeff_var_list, bins=30)\n",
    "plt.title('Coefficient of variance per dataset')\n",
    "array_statistics(coeff_var_list)"
   ]
  },
  {
   "cell_type": "code",
   "execution_count": 17,
   "metadata": {},
   "outputs": [],
   "source": [
    "np.savetxt('n_revision_list.csv', n_revision_list, delimiter=',')\n",
    "np.savetxt('max_nodes_list.csv', max_nodes_list, delimiter=',')\n",
    "np.savetxt('coeff_var_list.csv', coeff_var_list, delimiter=',')\n",
    "np.savetxt('rev_weight_diff_list.csv', rev_weight_diff_list, delimiter=',')\n",
    "np.savetxt('addition_deletion_list.csv', addition_deletion_list, delimiter=',')\n",
    "# print(n_revision_list)\n",
    "# print(max_nodes_list)\n",
    "# print(coeff_var_list)\n",
    "# print(rev_weight_diff_list)\n",
    "# print(addition_deletion_list)"
   ]
  },
  {
   "cell_type": "code",
   "execution_count": null,
   "metadata": {},
   "outputs": [],
   "source": []
  }
 ],
 "metadata": {
  "kernelspec": {
   "display_name": "Python 3",
   "language": "python",
   "name": "python3"
  },
  "language_info": {
   "codemirror_mode": {
    "name": "ipython",
    "version": 3
   },
   "file_extension": ".py",
   "mimetype": "text/x-python",
   "name": "python",
   "nbconvert_exporter": "python",
   "pygments_lexer": "ipython3",
   "version": "3.5.2"
  }
 },
 "nbformat": 4,
 "nbformat_minor": 2
}
