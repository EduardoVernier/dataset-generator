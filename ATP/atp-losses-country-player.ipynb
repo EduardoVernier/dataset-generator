{
 "cells": [
  {
   "cell_type": "code",
   "execution_count": 1,
   "metadata": {},
   "outputs": [
    {
     "name": "stdout",
     "output_type": "stream",
     "text": [
      "fatal: destination path 'tennis_atp' already exists and is not an empty directory.\r\n"
     ]
    }
   ],
   "source": [
    "! git clone https://github.com/JeffSackmann/tennis_atp"
   ]
  },
  {
   "cell_type": "code",
   "execution_count": 2,
   "metadata": {},
   "outputs": [],
   "source": [
    "! mkdir atp-losses-country-player"
   ]
  },
  {
   "cell_type": "code",
   "execution_count": 3,
   "metadata": {},
   "outputs": [],
   "source": [
    "# Using data from https://github.com/JeffSackmann/tennis_atp\n",
    "import pandas as pd\n",
    "for i in range(1968, 2018):\n",
    "    file = 'tennis_atp/atp_matches_' + str(i) + '.csv'\n",
    "    df = pd.read_csv(file)  \n",
    "\n",
    "    df['loser_name'] = df['loser_name'].str.replace(' ','')  # Remove whitespaces from names\n",
    "    df = df.groupby(['loser_ioc', 'loser_name'])['loser_name'].agg('count')  # Count wins\n",
    "    df.index = df.index.map('{0[0]}/{0[1]}'.format)  # Format index\n",
    "    df = df.to_frame()\n",
    "    df.columns = ['weight']\n",
    "    df.to_csv('atp-losses-country-player/' + str(i) + '-losses-atp.csv', columns=['weight'], index=True, index_label='id')"
   ]
  }
 ],
 "metadata": {
  "kernelspec": {
   "display_name": "Python 3",
   "language": "python",
   "name": "python3"
  },
  "language_info": {
   "codemirror_mode": {
    "name": "ipython",
    "version": 3
   },
   "file_extension": ".py",
   "mimetype": "text/x-python",
   "name": "python",
   "nbconvert_exporter": "python",
   "pygments_lexer": "ipython3",
   "version": "3.5.2"
  }
 },
 "nbformat": 4,
 "nbformat_minor": 2
}
