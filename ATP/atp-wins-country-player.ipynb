{
 "cells": [
  {
   "cell_type": "code",
   "execution_count": 139,
   "metadata": {},
   "outputs": [
    {
     "name": "stdout",
     "output_type": "stream",
     "text": [
      "fatal: destination path 'tennis_atp' already exists and is not an empty directory.\r\n"
     ]
    }
   ],
   "source": [
    "! git clone https://github.com/JeffSackmann/tennis_atp"
   ]
  },
  {
   "cell_type": "code",
   "execution_count": 140,
   "metadata": {},
   "outputs": [
    {
     "name": "stdout",
     "output_type": "stream",
     "text": [
      "mkdir: cannot create directory ‘atp-wins-country-player’: File exists\r\n"
     ]
    }
   ],
   "source": [
    "! mkdir atp-wins-country-player"
   ]
  },
  {
   "cell_type": "code",
   "execution_count": 152,
   "metadata": {},
   "outputs": [],
   "source": [
    "# Using data from https://github.com/JeffSackmann/tennis_atp\n",
    "import pandas as pd\n",
    "for i in range(1968, 2018):\n",
    "    file = 'tennis_atp/atp_matches_' + str(i) + '.csv'\n",
    "    df = pd.read_csv(file)  \n",
    "\n",
    "    df['winner_name'] = df['winner_name'].str.replace(' ','')  # Remove whitespaces from names\n",
    "    df = df.groupby(['winner_ioc', 'winner_name'])['winner_name'].agg('count')  # Count wins\n",
    "    df.index = df.index.map('{0[0]}/{0[1]}'.format)  # Format index\n",
    "    df = df.to_frame()\n",
    "    df.columns = ['weight']\n",
    "    df.to_csv('atp-wins-country-player/' + str(i) + '-wins-atp.csv', columns=['weight'], index=True, index_label='id')"
   ]
  }
 ],
 "metadata": {
  "kernelspec": {
   "display_name": "Python 3",
   "language": "python",
   "name": "python3"
  },
  "language_info": {
   "codemirror_mode": {
    "name": "ipython",
    "version": 3
   },
   "file_extension": ".py",
   "mimetype": "text/x-python",
   "name": "python",
   "nbconvert_exporter": "python",
   "pygments_lexer": "ipython3",
   "version": "3.5.2"
  }
 },
 "nbformat": 4,
 "nbformat_minor": 2
}
