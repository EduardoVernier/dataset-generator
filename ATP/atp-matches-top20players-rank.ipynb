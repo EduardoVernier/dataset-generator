{
 "cells": [
  {
   "cell_type": "markdown",
   "metadata": {},
   "source": [
    "Only requirement is pandas==0.21.0"
   ]
  },
  {
   "cell_type": "code",
   "execution_count": 5,
   "metadata": {
    "scrolled": false
   },
   "outputs": [
    {
     "name": "stdout",
     "output_type": "stream",
     "text": [
      "fatal: destination path 'tennis_atp' already exists and is not an empty directory.\r\n"
     ]
    }
   ],
   "source": [
    "# Clone repository with tennis data\n",
    "! git clone https://github.com/JeffSackmann/tennis_atp"
   ]
  },
  {
   "cell_type": "code",
   "execution_count": 6,
   "metadata": {},
   "outputs": [
    {
     "name": "stdout",
     "output_type": "stream",
     "text": [
      "mkdir: cannot create directory ‘matchestop20atp’: File exists\r\n"
     ]
    }
   ],
   "source": [
    "# Make the dir with the output \n",
    "! mkdir atp-matches-top20players-rank"
   ]
  },
  {
   "cell_type": "code",
   "execution_count": 7,
   "metadata": {
    "scrolled": true
   },
   "outputs": [],
   "source": [
    "# Using data from https://github.com/JeffSackmann/tennis_atp\n",
    "import pandas as pd\n",
    "# Player ranks are available from 1974 onwards\n",
    "for i in range(1974, 2018):\n",
    "    file = 'tennis_atp/atp_matches_' + str(i) + '.csv'\n",
    "    df = pd.read_csv(file)    \n",
    "    \n",
    "    # Select only players with rank smaller than 20\n",
    "    df = df.loc[df['winner_rank'] < 20, ['surface', 'tourney_name', 'winner_hand', 'winner_ioc', 'winner_name', 'winner_rank']]\n",
    "    \n",
    "    column_names = df.columns[:-1]\n",
    "    series_list = [df[c].str.replace(' ','') for c in column_names[1:]]  # Get rid on whitespaces in names\n",
    "    df['id'] = series_list[0].str.cat(series_list[1:], sep='/')  # Concatenate with /\n",
    "    df['weight'] = 20 - df['winner_rank']  # Make players \n",
    "    df.to_csv('atp-matches-top20players-rank/' + str(i) + '-top20atp.csv', columns=['id','weight'], index=False)"
   ]
  }
 ],
 "metadata": {
  "kernelspec": {
   "display_name": "Python 3",
   "language": "python",
   "name": "python3"
  },
  "language_info": {
   "codemirror_mode": {
    "name": "ipython",
    "version": 3
   },
   "file_extension": ".py",
   "mimetype": "text/x-python",
   "name": "python",
   "nbconvert_exporter": "python",
   "pygments_lexer": "ipython3",
   "version": "3.5.2"
  }
 },
 "nbformat": 4,
 "nbformat_minor": 2
}
