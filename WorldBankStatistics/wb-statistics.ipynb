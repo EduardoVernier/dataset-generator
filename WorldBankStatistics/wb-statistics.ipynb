{
 "cells": [
  {
   "cell_type": "code",
   "execution_count": 75,
   "metadata": {},
   "outputs": [],
   "source": [
    "%matplotlib inline\n",
    "import os\n",
    "import pandas as pd\n",
    "import numpy as np\n",
    "import matplotlib.pyplot as plt\n",
    "from scipy import stats\n",
    "from natsort import natsorted, ns\n",
    "from functools import reduce"
   ]
  },
  {
   "cell_type": "code",
   "execution_count": 76,
   "metadata": {},
   "outputs": [],
   "source": [
    "n_revision_list = np.array([])\n",
    "max_nodes_list = np.array([])\n",
    "variance_list = np.array([])\n",
    "difference_list = np.array([])\n",
    "addition_deletion_list = np.array([])"
   ]
  },
  {
   "cell_type": "code",
   "execution_count": 113,
   "metadata": {},
   "outputs": [],
   "source": [
    "def array_statistics(ar):\n",
    "    ds = stats.describe(ar)\n",
    "    print('Mean:', ds.mean, end='   ')\n",
    "    print('Min/Max:', ds.minmax, end='   ')\n",
    "    print('Variance:', ds.variance)\n",
    "    qt = np.percentile(ar, [25, 50, 75])\n",
    "    print('1st Quartile:', qt[0], end='     ')\n",
    "    print('Median:', qt[1], end='     ')\n",
    "    print('3rd Quartile:', qt[2])\n",
    "    \n",
    "    "
   ]
  },
  {
   "cell_type": "code",
   "execution_count": 77,
   "metadata": {},
   "outputs": [],
   "source": [
    "root_path = '/home/eduardo/Desktop/new_datasets/WB/'\n",
    "dataset_paths = [x[0] for x in os.walk(root_path) if x[0] != root_path]\n",
    "# dataset_paths[:6]"
   ]
  },
  {
   "cell_type": "code",
   "execution_count": 82,
   "metadata": {
    "scrolled": true
   },
   "outputs": [
    {
     "name": "stdout",
     "output_type": "stream",
     "text": [
      "1       \r"
     ]
    }
   ],
   "source": [
    "n_datasets = len(dataset_paths)\n",
    "for path in dataset_paths:\n",
    "    print(str(n_datasets) + '    ', end='\\r', flush=True)\n",
    "    n_datasets -= 1\n",
    "    #path = dataset_paths[500]\n",
    "    revision_paths = natsorted(os.listdir(path))\n",
    "    revision_paths = [path + '/' + i for i in revision_paths]\n",
    "    n_revisions = len(revision_paths)\n",
    "    n_revision_list = np.append(n_revision_list, n_revisions)\n",
    "\n",
    "    # Build different csv files into a single table\n",
    "    dfs = [pd.read_csv(rev, index_col='id', header=0, names=['id', rev[-8:-4]]) for rev in revision_paths]\n",
    "    df = reduce(lambda left,right: pd.merge(left,right,how='outer', left_index=True, right_index=True), dfs)\n",
    "    # display(df.head())\n",
    "\n",
    "    # Max number of cells in a revision\n",
    "    max_nodes_list = np.append(max_nodes_list, df.notnull().sum(axis=0).max())\n",
    "    \n",
    "    # Normalize each column of table\n",
    "    for column in df:\n",
    "        column_sum = df[column].sum()\n",
    "        df[column] = df[column] / column_sum\n",
    "\n",
    "    # Variance of all cells\n",
    "    variance_list = np.append(variance_list, df.unstack().var())\n",
    "    \n",
    "    # Compute cell diff between consecutive revisions\n",
    "    diffs = np.diff(df.values, axis=1).flatten()\n",
    "    diffs = diffs[~np.isnan(diffs)]\n",
    "    for value in np.absolute(diffs):\n",
    "        difference_list = np.append(difference_list, value)\n",
    "    \n",
    "    # Count additions and deletions (no distinction between the two)\n",
    "    addition_deletion_count = 0\n",
    "    for i in range(n_revisions - 1):\n",
    "        addition_deletion_count += np.logical_xor(df.iloc[:, i].notnull(), df.iloc[:, i + 1].notnull()).sum()\n",
    "    addition_deletion_list = np.append(addition_deletion_list, addition_deletion_count)\n"
   ]
  },
  {
   "cell_type": "code",
   "execution_count": null,
   "metadata": {},
   "outputs": [],
   "source": [
    "# All datasets have the same depth = 2.  Region/Country"
   ]
  },
  {
   "cell_type": "code",
   "execution_count": 120,
   "metadata": {},
   "outputs": [
    {
     "name": "stdout",
     "output_type": "stream",
     "text": [
      "Mean: 38.1505631298   Min/Max: (1.0, 58.0)   Variance: 316.819547429\n",
      "1st Quartile: 22.0     Median: 47.0     3rd Quartile: 56.0\n"
     ]
    },
    {
     "data": {
      "image/png": "[encoded data removed]",
      "text/plain": [
       "<matplotlib.figure.Figure at 0x7f9c66b9ce10>"
      ]
     },
     "metadata": {},
     "output_type": "display_data"
    }
   ],
   "source": [
    "plt.hist(n_revision_list, bins=30);\n",
    "plt.title('# of revisions in dataset')\n",
    "array_statistics(n_revision_list)"
   ]
  },
  {
   "cell_type": "code",
   "execution_count": 119,
   "metadata": {
    "scrolled": false
   },
   "outputs": [
    {
     "name": "stdout",
     "output_type": "stream",
     "text": [
      "Mean: 132.161232958   Min/Max: (0.0, 217.0)   Variance: 3131.77114154\n",
      "1st Quartile: 89.0     Median: 140.0     3rd Quartile: 185.0\n"
     ]
    },
    {
     "data": {
      "image/png": "[encoded data removed]",
      "text/plain": [
       "<matplotlib.figure.Figure at 0x7f9c66de8eb8>"
      ]
     },
     "metadata": {},
     "output_type": "display_data"
    }
   ],
   "source": [
    "plt.hist(max_nodes_list, bins=30)\n",
    "plt.title('Max # of nodes in dataset revision')\n",
    "array_statistics(max_nodes_list)"
   ]
  },
  {
   "cell_type": "code",
   "execution_count": 121,
   "metadata": {},
   "outputs": [
    {
     "name": "stdout",
     "output_type": "stream",
     "text": [
      "Mean: 0.00301439932575   Min/Max: (8.653095497811932e-10, 0.08823312799614616)   Variance: 4.53468523336e-05\n",
      "1st Quartile: 5.65687002194e-05     Median: 0.000446665275147     3rd Quartile: 0.0021336102418\n"
     ]
    },
    {
     "data": {
      "image/png": "[encoded data removed]",
      "text/plain": [
       "<matplotlib.figure.Figure at 0x7f9c77511a90>"
      ]
     },
     "metadata": {},
     "output_type": "display_data"
    }
   ],
   "source": [
    "variance_list =  variance_list[~np.isnan(variance_list)]\n",
    "plt.hist(variance_list, bins=30)\n",
    "plt.title('Dataset variance')\n",
    "array_statistics(variance_list)\n"
   ]
  },
  {
   "cell_type": "code",
   "execution_count": 127,
   "metadata": {},
   "outputs": [
    {
     "name": "stdout",
     "output_type": "stream",
     "text": [
      "Mean: 0.00180129688302   Min/Max: (0.0, 0.99996715037736006)   Variance: 0.000137232823192\n",
      "1st Quartile: 2.37910797288e-05     Median: 0.00013832542046     3rd Quartile: 0.000765977360963\n"
     ]
    },
    {
     "data": {
      "image/png": "[encoded data removed]",
      "text/plain": [
       "<matplotlib.figure.Figure at 0x7f9c6566b160>"
      ]
     },
     "metadata": {},
     "output_type": "display_data"
    }
   ],
   "source": [
    "plt.hist(difference_list, bins=30, range=[0,0.1])\n",
    "plt.title('Relative difference between consecutive revisions all cells all datasets')\n",
    "array_statistics(difference_list)"
   ]
  },
  {
   "cell_type": "code",
   "execution_count": 86,
   "metadata": {},
   "outputs": [],
   "source": [
    "np.savetxt('n_revision_list.csv', n_revision_list, delimiter=',')\n",
    "np.savetxt('max_nodes_list.csv', max_nodes_list, delimiter=',')\n",
    "np.savetxt('variance_list.csv', variance_list, delimiter=',')\n",
    "np.savetxt('difference_list.csv', difference_list, delimiter=',')\n",
    "np.savetxt('addition_deletion_list.csv', addition_deletion_list, delimiter=',')"
   ]
  }
 ],
 "metadata": {
  "kernelspec": {
   "display_name": "Python 3",
   "language": "python",
   "name": "python3"
  },
  "language_info": {
   "codemirror_mode": {
    "name": "ipython",
    "version": 3
   },
   "file_extension": ".py",
   "mimetype": "text/x-python",
   "name": "python",
   "nbconvert_exporter": "python",
   "pygments_lexer": "ipython3",
   "version": "3.5.2"
  }
 },
 "nbformat": 4,
 "nbformat_minor": 2
}
