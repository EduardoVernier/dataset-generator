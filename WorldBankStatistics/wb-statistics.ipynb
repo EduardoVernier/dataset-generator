{
 "cells": [
  {
   "cell_type": "code",
   "execution_count": 1,
   "metadata": {},
   "outputs": [],
   "source": [
    "%matplotlib inline\n",
    "import os\n",
    "import pandas as pd\n",
    "import numpy as np\n",
    "import matplotlib.pyplot as plt\n",
    "from scipy import stats\n",
    "from natsort import natsorted, ns\n",
    "from functools import reduce"
   ]
  },
  {
   "cell_type": "code",
   "execution_count": 2,
   "metadata": {},
   "outputs": [],
   "source": [
    "n_revision_list = np.array([])\n",
    "max_nodes_list = np.array([])\n",
    "variance_list = np.array([])\n",
    "difference_list = np.array([])\n",
    "addition_deletion_list = np.array([])"
   ]
  },
  {
   "cell_type": "code",
   "execution_count": 3,
   "metadata": {},
   "outputs": [],
   "source": [
    "def array_statistics(ar):\n",
    "    ds = stats.describe(ar)\n",
    "    print('Mean:', ds.mean, end='   ')\n",
    "    print('Min/Max:', ds.minmax, end='   ')\n",
    "    print('Variance:', ds.variance)\n",
    "    qt = np.percentile(ar, [25, 50, 75])\n",
    "    print('1st Quartile:', qt[0], end='     ')\n",
    "    print('Median:', qt[1], end='     ')\n",
    "    print('3rd Quartile:', qt[2])"
   ]
  },
  {
   "cell_type": "code",
   "execution_count": 4,
   "metadata": {},
   "outputs": [],
   "source": [
    "root_path = '/home/eduardo/Desktop/new_datasets/WB/'\n",
    "dataset_paths = [x[0] for x in os.walk(root_path) if x[0] != root_path]\n",
    "# dataset_paths[:6]"
   ]
  },
  {
   "cell_type": "code",
   "execution_count": 5,
   "metadata": {
    "scrolled": true
   },
   "outputs": [
    {
     "name": "stdout",
     "output_type": "stream",
     "text": [
      "1       \r"
     ]
    }
   ],
   "source": [
    "n_datasets = len(dataset_paths)\n",
    "for path in dataset_paths:\n",
    "    print(str(n_datasets) + '    ', end='\\r', flush=True)\n",
    "    n_datasets -= 1\n",
    "    #path = dataset_paths[500]\n",
    "    revision_paths = natsorted(os.listdir(path))\n",
    "    revision_paths = [path + '/' + i for i in revision_paths]\n",
    "    n_revisions = len(revision_paths)\n",
    "    n_revision_list = np.append(n_revision_list, n_revisions)\n",
    "\n",
    "    # Build different csv files into a single table\n",
    "    dfs = [pd.read_csv(rev, index_col='id', header=0, names=['id', rev[-8:-4]]) for rev in revision_paths]\n",
    "    df = reduce(lambda left,right: pd.merge(left,right,how='outer', left_index=True, right_index=True), dfs)\n",
    "    # display(df.head())\n",
    "\n",
    "    # Max number of cells in a revision\n",
    "    max_nodes_list = np.append(max_nodes_list, df.notnull().sum(axis=0).max())\n",
    "    \n",
    "    # Normalize each column of table\n",
    "    for column in df:\n",
    "        column_sum = df[column].sum()\n",
    "        df[column] = df[column] / column_sum\n",
    "\n",
    "    # Variance of all cells\n",
    "    variance_list = np.append(variance_list, df.unstack().var())\n",
    "    \n",
    "    # Compute cell diff between consecutive revisions\n",
    "    diffs = np.diff(df.values, axis=1).flatten()\n",
    "    diffs = diffs[~np.isnan(diffs)]\n",
    "    for value in np.absolute(diffs):\n",
    "        difference_list = np.append(difference_list, value)\n",
    "    \n",
    "    # Count additions and deletions (no distinction between the two)\n",
    "    for i in range(n_revisions - 1):\n",
    "        addition_deletion_ratio = np.logical_xor(df.iloc[:, i].notnull(), df.iloc[:, i + 1].notnull()).sum() / (df.iloc[:, i].notnull().sum() + 1)\n",
    "        addition_deletion_list = np.append(addition_deletion_list, addition_deletion_ratio)"
   ]
  },
  {
   "cell_type": "code",
   "execution_count": 6,
   "metadata": {},
   "outputs": [],
   "source": [
    "# All datasets have the same depth = 2.  Region/Country"
   ]
  },
  {
   "cell_type": "code",
   "execution_count": 7,
   "metadata": {},
   "outputs": [
    {
     "name": "stdout",
     "output_type": "stream",
     "text": [
      "Mean: 38.1722580645   Min/Max: (1.0, 58.0)   Variance: 313.982573981\n",
      "1st Quartile: 22.0     Median: 47.0     3rd Quartile: 56.0\n"
     ]
    },
    {
     "data": {
      "image/png": "[encoded data removed]",
      "text/plain": [
       "<matplotlib.figure.Figure at 0x7fbe883d2320>"
      ]
     },
     "metadata": {},
     "output_type": "display_data"
    }
   ],
   "source": [
    "plt.hist(n_revision_list, bins=30);\n",
    "plt.title('# of revisions in dataset')\n",
    "array_statistics(n_revision_list)"
   ]
  },
  {
   "cell_type": "code",
   "execution_count": 8,
   "metadata": {
    "scrolled": false
   },
   "outputs": [
    {
     "name": "stdout",
     "output_type": "stream",
     "text": [
      "Mean: 132.154193548   Min/Max: (0.0, 217.0)   Variance: 3092.45974677\n",
      "1st Quartile: 89.0     Median: 140.0     3rd Quartile: 185.0\n"
     ]
    },
    {
     "data": {
      "image/png": "[encoded data removed]",
      "text/plain": [
       "<matplotlib.figure.Figure at 0x7fbe88154240>"
      ]
     },
     "metadata": {},
     "output_type": "display_data"
    }
   ],
   "source": [
    "plt.hist(max_nodes_list, bins=30)\n",
    "plt.title('Max # of nodes in dataset revision')\n",
    "array_statistics(max_nodes_list)"
   ]
  },
  {
   "cell_type": "code",
   "execution_count": 9,
   "metadata": {},
   "outputs": [
    {
     "name": "stdout",
     "output_type": "stream",
     "text": [
      "Mean: 0.00297234708973   Min/Max: (8.653095497811932e-10, 0.08823312799614616)   Variance: 4.57091038525e-05\n",
      "1st Quartile: 6.0196860443e-05     Median: 0.000464059538137     3rd Quartile: 0.00212709216593\n"
     ]
    },
    {
     "data": {
      "image/png": "[encoded data removed]",
      "text/plain": [
       "<matplotlib.figure.Figure at 0x7fbe87ca4d30>"
      ]
     },
     "metadata": {},
     "output_type": "display_data"
    }
   ],
   "source": [
    "variance_list =  variance_list[~np.isnan(variance_list)]\n",
    "plt.hist(variance_list, bins=30)\n",
    "plt.title('Dataset variance')\n",
    "array_statistics(variance_list)\n"
   ]
  },
  {
   "cell_type": "code",
   "execution_count": 15,
   "metadata": {
    "scrolled": true
   },
   "outputs": [
    {
     "name": "stdout",
     "output_type": "stream",
     "text": [
      "Mean: 0.00177977044479   Min/Max: (0.0, 0.99996715037736006)   Variance: 0.000133337935236\n",
      "1st Quartile: 2.3636467668e-05     Median: 0.000135618162496     3rd Quartile: 0.000752024904538\n"
     ]
    },
    {
     "data": {
      "image/png": "[encoded data removed]",
      "text/plain": [
       "<matplotlib.figure.Figure at 0x7fbe87a1b898>"
      ]
     },
     "metadata": {},
     "output_type": "display_data"
    }
   ],
   "source": [
    "plt.hist(difference_list, bins=30, range=[0,0.05])\n",
    "plt.title('Relative difference between consecutive revisions all cells all datasets')\n",
    "array_statistics(difference_list)"
   ]
  },
  {
   "cell_type": "code",
   "execution_count": 14,
   "metadata": {},
   "outputs": [
    {
     "name": "stdout",
     "output_type": "stream",
     "text": [
      "Mean: 0.296813785111   Min/Max: (0.0, 197.0)   Variance: 4.71141617403\n",
      "1st Quartile: 0.0     Median: 0.0350877192982     3rd Quartile: 0.2\n"
     ]
    },
    {
     "data": {
      "image/png": "[encoded data removed]",
      "text/plain": [
       "<matplotlib.figure.Figure at 0x7fbe879bab38>"
      ]
     },
     "metadata": {},
     "output_type": "display_data"
    }
   ],
   "source": [
    "plt.hist(addition_deletion_list, bins=30, range=[0,1.5])\n",
    "plt.title('Number of additions and deletions in dataset')\n",
    "array_statistics(addition_deletion_list)\n",
    "# addition_deletion_list"
   ]
  },
  {
   "cell_type": "code",
   "execution_count": 12,
   "metadata": {},
   "outputs": [],
   "source": [
    "np.savetxt('n_revision_list.csv', n_revision_list, delimiter=',')\n",
    "np.savetxt('max_nodes_list.csv', max_nodes_list, delimiter=',')\n",
    "np.savetxt('variance_list.csv', variance_list, delimiter=',')\n",
    "np.savetxt('difference_list.csv', difference_list, delimiter=',')\n",
    "np.savetxt('addition_deletion_list.csv', addition_deletion_list, delimiter=',')"
   ]
  }
 ],
 "metadata": {
  "kernelspec": {
   "display_name": "Python 3",
   "language": "python",
   "name": "python3"
  },
  "language_info": {
   "codemirror_mode": {
    "name": "ipython",
    "version": 3
   },
   "file_extension": ".py",
   "mimetype": "text/x-python",
   "name": "python",
   "nbconvert_exporter": "python",
   "pygments_lexer": "ipython3",
   "version": "3.5.2"
  }
 },
 "nbformat": 4,
 "nbformat_minor": 2
}
