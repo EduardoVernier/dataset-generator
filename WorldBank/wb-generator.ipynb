{
 "cells": [
  {
   "cell_type": "code",
   "execution_count": 1,
   "metadata": {},
   "outputs": [],
   "source": [
    "# The link below has a csv with all WB inducators \n",
    "# http://databank.worldbank.org/data/download/WDI_csv.zip"
   ]
  },
  {
   "cell_type": "code",
   "execution_count": 2,
   "metadata": {},
   "outputs": [],
   "source": [
    "import pandas as pd\n",
    "import numpy as np\n",
    "import string\n",
    "import os"
   ]
  },
  {
   "cell_type": "code",
   "execution_count": 3,
   "metadata": {},
   "outputs": [],
   "source": [
    "# Keep only countries and no aggregators (i.e. EU, High Income Contries)\n",
    "countries = pd.read_csv('wb-countries.csv')"
   ]
  },
  {
   "cell_type": "code",
   "execution_count": 4,
   "metadata": {
    "scrolled": false
   },
   "outputs": [],
   "source": [
    "df_full = pd.read_csv('wb-data.csv')  # Read the large data file"
   ]
  },
  {
   "cell_type": "code",
   "execution_count": 5,
   "metadata": {},
   "outputs": [],
   "source": [
    "# Separate large table into smaller tables, each being of a single indicator\n",
    "dfs = {}\n",
    "for name, group in df_full.groupby('Indicator Code'):\n",
    "    dataset_id = name\n",
    "    # Use only the 217 countries in list and make the country code the table index\n",
    "    dfs[name] = group[group['Country Code'].isin(countries['Code'])]\n",
    "    "
   ]
  },
  {
   "cell_type": "code",
   "execution_count": 6,
   "metadata": {},
   "outputs": [
    {
     "data": {
      "text/plain": [
       "1580"
      ]
     },
     "execution_count": 6,
     "metadata": {},
     "output_type": "execute_result"
    }
   ],
   "source": [
    "n_indicators = len(dfs)\n",
    "n_indicators"
   ]
  },
  {
   "cell_type": "code",
   "execution_count": 7,
   "metadata": {},
   "outputs": [
    {
     "name": "stdout",
     "output_type": "stream",
     "text": [
      "0       \r"
     ]
    }
   ],
   "source": [
    "# Iterate over all indicators (tables)\n",
    "for dataset_id, df in dfs.items():\n",
    "    n_indicators -= 1\n",
    "    # Count number of non-empty cells and continue only if there is a minumum number of measurements\n",
    "    if df.notnull().sum(axis=0).sum() > 217*4 + 1000:\n",
    "        print(str(n_indicators) + '    ', end='\\r', flush=True)\n",
    "#         print(dataset_id)\n",
    "\n",
    "        # Remove columns (years) with no data\n",
    "        df.dropna(axis=1, how='all', inplace=True)\n",
    "\n",
    "\n",
    "        # Add Region column to make a complete id with Region/Country\n",
    "        df = df.merge(countries[['Code', 'Region']], left_on='Country Code', right_on='Code')\n",
    "        df['Country Name']= df['Country Name'].str.replace('[{}]'.format(string.punctuation), '')  # Remove ponctuation from name\n",
    "        df['id'] = df['Region'].str.replace(' ', '') + '/' + df['Country Name'].str.replace(' ', '')\n",
    "#         display(df)\n",
    "        \n",
    "        # Iterate over years\n",
    "        for col in df.columns:\n",
    "            if col.isdigit():  # Not all columns represent years\n",
    "                copy = df.loc[:, ['id', col]].dropna(axis=0).copy()\n",
    "                copy.columns = ['id', 'weight']\n",
    "                copy['weight'] = copy['weight'].abs()  # We can't have negative weights\n",
    "                copy['weight'] = copy['weight'].replace({0:np.nan})\n",
    "                copy.dropna(axis=0, how='any', inplace=True)\n",
    "\n",
    "                os.makedirs('wb-datasets/wb-' + dataset_id, exist_ok=True)\n",
    "                copy.to_csv('wb-datasets/wb-' + dataset_id + '/' + col + '.csv', index=False)\n",
    "        "
   ]
  }
 ],
 "metadata": {
  "kernelspec": {
   "display_name": "Python 3",
   "language": "python",
   "name": "python3"
  },
  "language_info": {
   "codemirror_mode": {
    "name": "ipython",
    "version": 3
   },
   "file_extension": ".py",
   "mimetype": "text/x-python",
   "name": "python",
   "nbconvert_exporter": "python",
   "pygments_lexer": "ipython3",
   "version": "3.5.2"
  }
 },
 "nbformat": 4,
 "nbformat_minor": 2
}
