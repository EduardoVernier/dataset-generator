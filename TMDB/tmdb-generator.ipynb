{
 "cells": [
  {
   "cell_type": "code",
   "execution_count": 1,
   "metadata": {},
   "outputs": [],
   "source": [
    "import pandas as pd\n",
    "import os\n",
    "import string\n",
    "import re"
   ]
  },
  {
   "cell_type": "code",
   "execution_count": 2,
   "metadata": {},
   "outputs": [],
   "source": [
    "# Read and process movies table "
   ]
  },
  {
   "cell_type": "code",
   "execution_count": 3,
   "metadata": {},
   "outputs": [],
   "source": [
    "movies_df = pd.read_csv('movies.csv')"
   ]
  },
  {
   "cell_type": "code",
   "execution_count": 4,
   "metadata": {
    "scrolled": true
   },
   "outputs": [
    {
     "name": "stderr",
     "output_type": "stream",
     "text": [
      "/usr/local/lib/python3.5/dist-packages/ipykernel_launcher.py:2: FutureWarning: currently extract(expand=None) means expand=False (return Index/Series/DataFrame) but in a future version of pandas this will be changed to expand=True (return DataFrame)\n",
      "  \n"
     ]
    }
   ],
   "source": [
    "# Make new column with release year\n",
    "movies_df['year'] = movies_df['title'].str.extract(r'.*\\((\\d\\d\\d\\d)\\).*')  # Regex to capture year \n",
    "movies_df.dropna(inplace=True)  # Drop movies that don't have a year in the title\n",
    "movies_df['year'] = movies_df['year'].astype(int)\n",
    "\n",
    "movies_df['title'] = movies_df['title'].str.replace(r'\\((\\d\\d\\d\\d)\\)', '')  # Remove year from title\n",
    "movies_df['title'] = movies_df['title'].str.replace('[{}]'.format(string.punctuation), '')  # Remove ponctuation from title\n",
    "movies_df['title'] = movies_df['title'].str.replace(' ', '')\n",
    "    \n",
    "movies_df['genres'] = movies_df['genres'].str.replace('|', '/')  # Remove year from title\n",
    "movies_df['genres'] = movies_df['genres'].str.replace('\\(no genres listed\\)', 'NA')"
   ]
  },
  {
   "cell_type": "code",
   "execution_count": 5,
   "metadata": {
    "scrolled": false
   },
   "outputs": [
    {
     "name": "stdout",
     "output_type": "stream",
     "text": [
      "(27256, 4)\n"
     ]
    },
    {
     "data": {
      "text/html": [
       "<div>\n",
       "<style scoped>\n",
       "    .dataframe tbody tr th:only-of-type {\n",
       "        vertical-align: middle;\n",
       "    }\n",
       "\n",
       "    .dataframe tbody tr th {\n",
       "        vertical-align: top;\n",
       "    }\n",
       "\n",
       "    .dataframe thead th {\n",
       "        text-align: right;\n",
       "    }\n",
       "</style>\n",
       "<table border=\"1\" class=\"dataframe\">\n",
       "  <thead>\n",
       "    <tr style=\"text-align: right;\">\n",
       "      <th></th>\n",
       "      <th>movieId</th>\n",
       "      <th>title</th>\n",
       "      <th>genres</th>\n",
       "      <th>year</th>\n",
       "    </tr>\n",
       "  </thead>\n",
       "  <tbody>\n",
       "    <tr>\n",
       "      <th>0</th>\n",
       "      <td>1</td>\n",
       "      <td>ToyStory</td>\n",
       "      <td>Adventure/Animation/Children/Comedy/Fantasy</td>\n",
       "      <td>1995</td>\n",
       "    </tr>\n",
       "    <tr>\n",
       "      <th>1</th>\n",
       "      <td>2</td>\n",
       "      <td>Jumanji</td>\n",
       "      <td>Adventure/Children/Fantasy</td>\n",
       "      <td>1995</td>\n",
       "    </tr>\n",
       "    <tr>\n",
       "      <th>2</th>\n",
       "      <td>3</td>\n",
       "      <td>GrumpierOldMen</td>\n",
       "      <td>Comedy/Romance</td>\n",
       "      <td>1995</td>\n",
       "    </tr>\n",
       "    <tr>\n",
       "      <th>3</th>\n",
       "      <td>4</td>\n",
       "      <td>WaitingtoExhale</td>\n",
       "      <td>Comedy/Drama/Romance</td>\n",
       "      <td>1995</td>\n",
       "    </tr>\n",
       "    <tr>\n",
       "      <th>4</th>\n",
       "      <td>5</td>\n",
       "      <td>FatheroftheBridePartII</td>\n",
       "      <td>Comedy</td>\n",
       "      <td>1995</td>\n",
       "    </tr>\n",
       "  </tbody>\n",
       "</table>\n",
       "</div>"
      ],
      "text/plain": [
       "   movieId                   title  \\\n",
       "0        1                ToyStory   \n",
       "1        2                 Jumanji   \n",
       "2        3          GrumpierOldMen   \n",
       "3        4         WaitingtoExhale   \n",
       "4        5  FatheroftheBridePartII   \n",
       "\n",
       "                                        genres  year  \n",
       "0  Adventure/Animation/Children/Comedy/Fantasy  1995  \n",
       "1                   Adventure/Children/Fantasy  1995  \n",
       "2                               Comedy/Romance  1995  \n",
       "3                         Comedy/Drama/Romance  1995  \n",
       "4                                       Comedy  1995  "
      ]
     },
     "execution_count": 5,
     "metadata": {},
     "output_type": "execute_result"
    }
   ],
   "source": [
    "print(movies_df.shape)\n",
    "movies_df.head()"
   ]
  },
  {
   "cell_type": "markdown",
   "metadata": {},
   "source": [
    "# Define filters"
   ]
  },
  {
   "cell_type": "code",
   "execution_count": 6,
   "metadata": {},
   "outputs": [],
   "source": [
    "def filter_60s_through_80s(df):\n",
    "    '''60sto80s'''\n",
    "    return df[df['year'].between(1960, 1990)]\n",
    "\n",
    "# filter_60s_through_80s(movies_df)  # 6k\n",
    "# filter_60s_through_80s.__doc__"
   ]
  },
  {
   "cell_type": "code",
   "execution_count": 7,
   "metadata": {},
   "outputs": [],
   "source": [
    "def filter_90s(df):\n",
    "    '''90s'''\n",
    "    return df[df['year'].between(1990, 2000 )]\n",
    "\n",
    "# filter_90s(movies_df)  # 17k"
   ]
  },
  {
   "cell_type": "code",
   "execution_count": 8,
   "metadata": {},
   "outputs": [],
   "source": [
    "def filter_00s_through_now(df):\n",
    "    '''00stonow'''\n",
    "    return df[df['year'].between(2000, 2018)]\n",
    "\n",
    "# filter_00s_through_now(movies_df)  # 12k"
   ]
  },
  {
   "cell_type": "code",
   "execution_count": 9,
   "metadata": {},
   "outputs": [],
   "source": [
    "def filter_children(df):\n",
    "    '''children'''\n",
    "    return df[df['genres'].str.contains('Children', regex=False)]\n",
    "\n",
    "# filter_children(movies_df)  # 1k"
   ]
  },
  {
   "cell_type": "code",
   "execution_count": 10,
   "metadata": {},
   "outputs": [],
   "source": [
    "def filter_action(df):\n",
    "    '''action'''\n",
    "    return df[df['genres'].str.contains('Action', regex=False)]\n",
    "\n",
    "# filter_action(movies_df)  # 3k"
   ]
  },
  {
   "cell_type": "code",
   "execution_count": 11,
   "metadata": {},
   "outputs": [],
   "source": [
    "def filter_documentaries(df):\n",
    "    '''documentaries'''\n",
    "    return df[df['genres'].str.contains('Documentary', regex=False)]\n",
    "\n",
    "# filter_documentaries(movies_df)  # 2k"
   ]
  },
  {
   "cell_type": "code",
   "execution_count": 12,
   "metadata": {},
   "outputs": [],
   "source": [
    "def filter_no_genre(df):\n",
    "    '''nogenre'''\n",
    "    return df[df['genres'].str.contains('NA', regex=False)]\n",
    "\n",
    "# filter_no_genre(movies_df)  # 237"
   ]
  },
  {
   "cell_type": "code",
   "execution_count": 13,
   "metadata": {},
   "outputs": [],
   "source": [
    "def filter_random_2000(df):\n",
    "    '''2krand'''\n",
    "    return df.sample(n=2000, random_state=42)\n",
    "\n",
    "# filter_random_2000(movies_df)"
   ]
  },
  {
   "cell_type": "code",
   "execution_count": 14,
   "metadata": {},
   "outputs": [],
   "source": [
    "def filter_4_or_more_genres(df):\n",
    "    '''4plusgenres'''\n",
    "    return df[df['genres'].str.count('/') >= 3]\n",
    "\n",
    "# filter_3_or_more_genres(movies_df)  # 2k"
   ]
  },
  {
   "cell_type": "code",
   "execution_count": 15,
   "metadata": {},
   "outputs": [
    {
     "name": "stdout",
     "output_type": "stream",
     "text": [
      "60sto80s (6649, 4)\n",
      "90s (4985, 4)\n",
      "00stonow (12746, 4)\n",
      "children (1139, 4)\n",
      "action (3519, 4)\n",
      "documentaries (2467, 4)\n",
      "nogenre (237, 4)\n",
      "2krand (2000, 4)\n",
      "4plusgenres (2309, 4)\n"
     ]
    }
   ],
   "source": [
    "filter_list = [filter_60s_through_80s, filter_90s, filter_00s_through_now, filter_children, \n",
    "               filter_action, filter_documentaries, filter_no_genre, filter_random_2000, filter_4_or_more_genres]\n",
    "for f in filter_list:\n",
    "    print(f.__doc__, f(movies_df).shape)"
   ]
  },
  {
   "cell_type": "code",
   "execution_count": 16,
   "metadata": {
    "scrolled": true
   },
   "outputs": [
    {
     "data": {
      "text/html": [
       "<div>\n",
       "<style scoped>\n",
       "    .dataframe tbody tr th:only-of-type {\n",
       "        vertical-align: middle;\n",
       "    }\n",
       "\n",
       "    .dataframe tbody tr th {\n",
       "        vertical-align: top;\n",
       "    }\n",
       "\n",
       "    .dataframe thead th {\n",
       "        text-align: right;\n",
       "    }\n",
       "</style>\n",
       "<table border=\"1\" class=\"dataframe\">\n",
       "  <thead>\n",
       "    <tr style=\"text-align: right;\">\n",
       "      <th></th>\n",
       "      <th>userId</th>\n",
       "      <th>movieId</th>\n",
       "      <th>rating</th>\n",
       "      <th>timestamp</th>\n",
       "    </tr>\n",
       "  </thead>\n",
       "  <tbody>\n",
       "    <tr>\n",
       "      <th>0</th>\n",
       "      <td>1</td>\n",
       "      <td>2</td>\n",
       "      <td>3.5</td>\n",
       "      <td>2005-04-02 23:53:47</td>\n",
       "    </tr>\n",
       "    <tr>\n",
       "      <th>1</th>\n",
       "      <td>1</td>\n",
       "      <td>29</td>\n",
       "      <td>3.5</td>\n",
       "      <td>2005-04-02 23:31:16</td>\n",
       "    </tr>\n",
       "    <tr>\n",
       "      <th>2</th>\n",
       "      <td>1</td>\n",
       "      <td>32</td>\n",
       "      <td>3.5</td>\n",
       "      <td>2005-04-02 23:33:39</td>\n",
       "    </tr>\n",
       "    <tr>\n",
       "      <th>3</th>\n",
       "      <td>1</td>\n",
       "      <td>47</td>\n",
       "      <td>3.5</td>\n",
       "      <td>2005-04-02 23:32:07</td>\n",
       "    </tr>\n",
       "    <tr>\n",
       "      <th>4</th>\n",
       "      <td>1</td>\n",
       "      <td>50</td>\n",
       "      <td>3.5</td>\n",
       "      <td>2005-04-02 23:29:40</td>\n",
       "    </tr>\n",
       "  </tbody>\n",
       "</table>\n",
       "</div>"
      ],
      "text/plain": [
       "   userId  movieId  rating           timestamp\n",
       "0       1        2     3.5 2005-04-02 23:53:47\n",
       "1       1       29     3.5 2005-04-02 23:31:16\n",
       "2       1       32     3.5 2005-04-02 23:33:39\n",
       "3       1       47     3.5 2005-04-02 23:32:07\n",
       "4       1       50     3.5 2005-04-02 23:29:40"
      ]
     },
     "execution_count": 16,
     "metadata": {},
     "output_type": "execute_result"
    }
   ],
   "source": [
    "# Read ratings\n",
    "ratings_df = pd.read_csv('ratings.csv')\n",
    "ratings_df['timestamp'] = pd.to_datetime(ratings_df['timestamp'], unit='s')  # Convert unix timestamp to pandas time\n",
    "ratings_df.head()"
   ]
  },
  {
   "cell_type": "markdown",
   "metadata": {},
   "source": [
    "# Generate datasets with yearly aggregation"
   ]
  },
  {
   "cell_type": "code",
   "execution_count": 17,
   "metadata": {},
   "outputs": [],
   "source": [
    "yearly_gb = ratings_df.groupby(pd.Grouper(key='timestamp', freq='Y'))"
   ]
  },
  {
   "cell_type": "code",
   "execution_count": 18,
   "metadata": {
    "scrolled": false
   },
   "outputs": [
    {
     "name": "stdout",
     "output_type": "stream",
     "text": [
      "CPU times: user 21min 55s, sys: 1.19 s, total: 21min 56s\n",
      "Wall time: 21min 56s\n"
     ]
    }
   ],
   "source": [
    "%%time\n",
    "for filter_function in filter_list:  # Iterate over all filters\n",
    "    i = 0\n",
    "    for name, group in yearly_gb:\n",
    "        # Filter movies\n",
    "        filtered_movies = filter_function(movies_df)\n",
    "        stats = group[group['movieId'].isin(filtered_movies['movieId'])].groupby(by='movieId').describe()\n",
    "        if 'rating' not in stats:  # Check if there are items in filter, else skip month/year\n",
    "            continue\n",
    "\n",
    "        # Merge all info from statistics and movies into a single df\n",
    "        stats = stats['rating'][['count', 'mean', 'std']]\n",
    "        df_final = stats.merge(filtered_movies[['movieId', 'title', 'genres', 'year']], left_index=True, right_on='movieId', how='inner')\n",
    "\n",
    "        # Generate correct ids\n",
    "        df_final['id_genres'] = df_final['genres'] + '/' + df_final['title']\n",
    "        df_final['id_release'] = df_final['year'].astype(str) + '/' + df_final['title']\n",
    "\n",
    "        # for a given filter, generate 6 datasets varying weight_col and hierarchy mode \n",
    "        for weight_col in ['count', 'mean', 'std']:\n",
    "            for hierarchy in ['id_genres', 'id_release']:\n",
    "                # tmdb-yearly-count-genres-action\n",
    "                dataset_id = 'yearly' + '-' + weight_col + '-' + re.match(r'id_(.*)', hierarchy, re.M|re.I).group(1) + '-' + filter_function.__doc__\n",
    "\n",
    "                copy = df_final[[hierarchy, weight_col]].dropna(axis=0).copy()  # Get only target cols            \n",
    "                copy.columns = ['id', 'weight']\n",
    "                copy = copy[copy['weight'] != 0]  # Remove cols with 0\n",
    "\n",
    "                os.makedirs('tmbd-datasets/tmbd-' + dataset_id, exist_ok=True)\n",
    "                copy.to_csv('tmbd-datasets/tmbd-' + dataset_id + '/' + str(name.date()) + '.csv', index=False)\n",
    "        \n",
    "        print(str(name.date()) + '    ', end='\\r', flush=True)\n",
    "                \n",
    "#         i += 1\n",
    "#         if i == 3:\n",
    "#             break"
   ]
  },
  {
   "cell_type": "markdown",
   "metadata": {},
   "source": [
    "# Generate datasets with monthly aggregation"
   ]
  },
  {
   "cell_type": "code",
   "execution_count": 19,
   "metadata": {},
   "outputs": [],
   "source": [
    "monthly_gb = ratings_df.groupby(pd.Grouper(key='timestamp', freq='M'))"
   ]
  },
  {
   "cell_type": "code",
   "execution_count": 20,
   "metadata": {},
   "outputs": [
    {
     "name": "stdout",
     "output_type": "stream",
     "text": [
      "CPU times: user 2h 26min 2s, sys: 3.46 s, total: 2h 26min 6s\n",
      "Wall time: 2h 26min 2s\n"
     ]
    }
   ],
   "source": [
    "%%time\n",
    "for filter_function in filter_list:  # Iterate over all filters\n",
    "    i = 0\n",
    "    for name, group in monthly_gb:\n",
    "        # Filter movies\n",
    "        filtered_movies = filter_function(movies_df)\n",
    "        stats = group[group['movieId'].isin(filtered_movies['movieId'])].groupby(by='movieId').describe()\n",
    "        if 'rating' not in stats:  # Check if there are items in filter, else skip month/year\n",
    "            continue\n",
    "\n",
    "        # Merge all info from statistics and movies into a single df\n",
    "        stats = stats['rating'][['count', 'mean', 'std']]\n",
    "        df_final = stats.merge(filtered_movies[['movieId', 'title', 'genres', 'year']], left_index=True, right_on='movieId', how='inner')\n",
    "\n",
    "        # Generate correct ids\n",
    "        df_final['id_genres'] = df_final['genres'] + '/' + df_final['title']\n",
    "        df_final['id_release'] = df_final['year'].astype(str) + '/' + df_final['title']\n",
    "\n",
    "        # for a given filter, generate 6 datasets varying weight_col and hierarchy mode \n",
    "        for weight_col in ['count', 'mean', 'std']:\n",
    "            for hierarchy in ['id_genres', 'id_release']:\n",
    "                # tmdb-monthly-count-genres-action\n",
    "                dataset_id = 'monthly' + '-' + weight_col + '-' + re.match(r'id_(.*)', hierarchy, re.M|re.I).group(1) + '-' + filter_function.__doc__\n",
    "\n",
    "                copy = df_final[[hierarchy, weight_col]].dropna(axis=0).copy()  # Get only target cols            \n",
    "                copy.columns = ['id', 'weight']\n",
    "                copy = copy[copy['weight'] != 0]  # Remove cols with 0\n",
    "\n",
    "                os.makedirs('tmbd-datasets/tmbd-' + dataset_id, exist_ok=True)\n",
    "                copy.to_csv('tmbd-datasets/tmbd-' + dataset_id + '/' + str(name.date()) + '.csv', index=False)\n",
    "\n",
    "        print(str(name.date()) + '    ', end='\\r', flush=True)\n",
    "\n",
    "#         i += 1\n",
    "#         if i == 3:\n",
    "#             break"
   ]
  }
 ],
 "metadata": {
  "kernelspec": {
   "display_name": "Python 3",
   "language": "python",
   "name": "python3"
  },
  "language_info": {
   "codemirror_mode": {
    "name": "ipython",
    "version": 3
   },
   "file_extension": ".py",
   "mimetype": "text/x-python",
   "name": "python",
   "nbconvert_exporter": "python",
   "pygments_lexer": "ipython3",
   "version": "3.5.2"
  }
 },
 "nbformat": 4,
 "nbformat_minor": 2
}
